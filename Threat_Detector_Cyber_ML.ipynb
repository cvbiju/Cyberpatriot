
{
 "cells": [
  {
   "cell_type": "markdown",
   "metadata": {},
   "source": [
    "# ⚓ Cadet Cyber Mission: Threat Detector - ML in Action\n",
    "**Objective:** Build a model to classify network traffic as Benign or Malicious.\n",
    "This notebook runs in under 60 minutes and is perfect for cadet ML training."
   ]
  },
  {
   "cell_type": "code",
   "metadata": {},
   "source": [
    "# Step 1: Import Libraries\n",
    "import pandas as pd\n",
    "from sklearn.model_selection import train_test_split\n",
    "from sklearn.ensemble import RandomForestClassifier\n",
    "from sklearn.preprocessing import LabelEncoder\n",
    "from sklearn.metrics import classification_report, confusion_matrix, accuracy_score\n",
    "import matplotlib.pyplot as plt\n",
    "import numpy as np"
   ]
  },
  {
   "cell_type": "code",
   "metadata": {},
   "source": [
    "# Step 2: Create a synthetic dataset\n",
    "data = {\n",
    "    'Protocol': ['TCP', 'UDP', 'TCP', 'TCP', 'UDP', 'TCP', 'TCP', 'UDP', 'TCP', 'UDP'] * 10,\n",
    "    'Src_Port': np.random.randint(1000, 5000, size=100),\n",
    "    'Dst_Port': np.random.randint(20, 1024, size=100),\n",
    "    'Packet_Size': np.random.randint(40, 1500, size=100),\n",
    "    'Duration': np.random.rand(100) * 10,\n",
    "    'Label': ['Benign', 'Malicious', 'Benign', 'Benign', 'Malicious', 'Benign', 'Malicious', 'Benign', 'Malicious', 'Benign'] * 10\n",
    "}\n",
    "df = pd.DataFrame(data)"
   ]
  },
  {
   "cell_type": "code",
   "metadata": {},
   "source": [
    "# Step 3: Encode labels\n",
    "le = LabelEncoder()\n",
    "df['Protocol'] = le.fit_transform(df['Protocol'])\n",
    "df['Label'] = df['Label'].map({'Benign': 0, 'Malicious': 1})"
   ]
  },
  {
   "cell_type": "code",
   "metadata": {},
   "source": [
    "# Step 4: Split dataset\n",
    "X = df.drop('Label', axis=1)\n",
    "y = df['Label']\n",
    "X_train, X_test, y_train, y_test = train_test_split(X, y, test_size=0.3, random_state=42)"
   ]
  },
  {
   "cell_type": "code",
   "metadata": {},
   "source": [
    "# Step 5: Train the model\n",
    "clf = RandomForestClassifier(n_estimators=100, random_state=42)\n",
    "clf.fit(X_train, y_train)\n",
    "y_pred = clf.predict(X_test)"
   ]
  },
  {
   "cell_type": "code",
   "metadata": {},
   "source": [
    "# Step 6: Evaluate\n",
    "print("Accuracy:", accuracy_score(y_test, y_pred))\n",
    "print("Confusion Matrix:\n", confusion_matrix(y_test, y_pred))\n",
    "print("Classification Report:\n", classification_report(y_test, y_pred))"
   ]
  },
  {
   "cell_type": "code",
   "metadata": {},
   "source": [
    "# Step 7: Visualize Results\n",
    "plt.figure(figsize=(6,4))\n",
    "plt.bar(['Benign', 'Malicious'], [list(y_pred).count(0), list(y_pred).count(1)])\n",
    "plt.title('Predicted Traffic Classification')\n",
    "plt.ylabel('Number of Connections')\n",
    "plt.tight_layout()\n",
    "plt.show()"
   ]
  }
 ],
 "metadata": {
  "kernelspec": {
   "display_name": "Python 3",
   "language": "python",
   "name": "python3"
  },
  "language_info": {
   "name": "python"
  }
 },
 "nbformat": 4,
 "nbformat_minor": 0
}
