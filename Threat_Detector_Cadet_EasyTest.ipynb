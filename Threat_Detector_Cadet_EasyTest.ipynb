{
 "cells": [
  {
   "cell_type": "markdown",
   "id": "18b40060",
   "metadata": {},
   "source": [
    "# ⚓ Cadet Cyber Mission: Threat Detector - Real Data Edition + Easy Testing\n",
    "Welcome, cadet! You are now working with **real network traffic data** to build a threat detector.\n",
    "\n",
    "Once your model is trained, you'll be able to test new traffic easily using sliders and dropdowns.\n",
    "\n",
    "Let’s begin!\n"
   ]
  },
  {
   "cell_type": "code",
   "execution_count": null,
   "id": "b3250588",
   "metadata": {},
   "outputs": [],
   "source": [
    "# ✅ STEP 1: Import Tools\n",
    "import pandas as pd\n",
    "import numpy as np\n",
    "import matplotlib.pyplot as plt\n",
    "from sklearn.model_selection import train_test_split\n",
    "from sklearn.ensemble import RandomForestClassifier\n",
    "from sklearn.metrics import accuracy_score, confusion_matrix, classification_report\n"
   ]
  },
  {
   "cell_type": "code",
   "execution_count": null,
   "id": "975bead0",
   "metadata": {},
   "outputs": [],
   "source": [
    "# ✅ STEP 2: Load Dataset\n",
    "file_path = '/content/cicids2017_sample_trimmed.csv'  # Adjust this path if needed\n",
    "df = pd.read_csv(file_path)\n",
    "df.head()\n"
   ]
  },
  {
   "cell_type": "code",
   "execution_count": null,
   "id": "d45c3b31",
   "metadata": {},
   "outputs": [],
   "source": [
    "# ✅ STEP 3: Preprocessing\n",
    "X = df[['Flow_Duration', 'Tot_Fwd_Pkts', 'Tot_Bwd_Pkts', 'TotLen_Fwd_Pkts', 'TotLen_Bwd_Pkts', 'Pkt_Len_Var']]\n",
    "y = df['Malicious']\n",
    "\n",
    "X_train, X_test, y_train, y_test = train_test_split(X, y, test_size=0.3, random_state=42)\n"
   ]
  },
  {
   "cell_type": "code",
   "execution_count": null,
   "id": "10084b57",
   "metadata": {},
   "outputs": [],
   "source": [
    "# ✅ STEP 4: Train the Model\n",
    "clf = RandomForestClassifier(n_estimators=100, random_state=42)\n",
    "clf.fit(X_train, y_train)\n",
    "y_pred = clf.predict(X_test)\n"
   ]
  },
  {
   "cell_type": "code",
   "execution_count": null,
   "id": "45435a2a",
   "metadata": {},
   "outputs": [],
   "source": [
    "# ✅ STEP 5: Evaluate the Model\n",
    "print(\"🎯 Accuracy:\", accuracy_score(y_test, y_pred))\n",
    "print(\"\\n🧾 Confusion Matrix:\\n\", confusion_matrix(y_test, y_pred))\n",
    "print(\"\\n📋 Classification Report:\\n\", classification_report(y_test, y_pred))\n"
   ]
  },
  {
   "cell_type": "code",
   "execution_count": null,
   "id": "487825a5",
   "metadata": {},
   "outputs": [],
   "source": [
    "# ✅ STEP 6: Visualize Results\n",
    "plt.figure(figsize=(6,4))\n",
    "plt.bar(['Benign', 'Malicious'], [list(y_pred).count(0), list(y_pred).count(1)])\n",
    "plt.title('Predicted Traffic Classification')\n",
    "plt.ylabel('Number of Connections')\n",
    "plt.tight_layout()\n",
    "plt.show()\n"
   ]
  },
  {
   "cell_type": "code",
   "execution_count": null,
   "id": "a4742f80",
   "metadata": {},
   "outputs": [],
   "source": [
    "# ✅ STEP 7: Test It Yourself (Cadet-Friendly)\n",
    "# Use sliders to simulate a new network connection and see what the model thinks\n",
    "\n",
    "import ipywidgets as widgets\n",
    "from IPython.display import display\n",
    "\n",
    "def predict_traffic(flow_duration, tot_fwd, tot_bwd, len_fwd, len_bwd, var_pkt):\n",
    "    test_input = pd.DataFrame([{\n",
    "        'Flow_Duration': flow_duration,\n",
    "        'Tot_Fwd_Pkts': tot_fwd,\n",
    "        'Tot_Bwd_Pkts': tot_bwd,\n",
    "        'TotLen_Fwd_Pkts': len_fwd,\n",
    "        'TotLen_Bwd_Pkts': len_bwd,\n",
    "        'Pkt_Len_Var': var_pkt\n",
    "    }])\n",
    "    result = clf.predict(test_input)[0]\n",
    "    label = \"🚨 MALICIOUS\" if result == 1 else \"✅ BENIGN\"\n",
    "    print(f\"Prediction: {label}\")\n",
    "\n",
    "widgets.interact(\n",
    "    predict_traffic,\n",
    "    flow_duration=widgets.IntSlider(min=1000, max=100000, step=1000, value=50000),\n",
    "    tot_fwd=widgets.IntSlider(min=1, max=100, step=1, value=50),\n",
    "    tot_bwd=widgets.IntSlider(min=1, max=100, step=1, value=50),\n",
    "    len_fwd=widgets.IntSlider(min=40, max=1500, step=10, value=600),\n",
    "    len_bwd=widgets.IntSlider(min=40, max=1500, step=10, value=600),\n",
    "    var_pkt=widgets.FloatSlider(min=0.1, max=10.0, step=0.1, value=5.0)\n",
    ")\n"
   ]
  },
  {
   "cell_type": "markdown",
   "id": "5f443512",
   "metadata": {},
   "source": [
    "## 🧠 MISSION DEBRIEF\n",
    "Great work, cadet! You trained a model, tested real traffic, and simulated your own inputs.\n",
    "\n",
    "Think about:\n",
    "- What inputs made it say \"Malicious\"?\n",
    "- Can you trick it?\n",
    "- How would this help in a real Navy cybersecurity center?\n",
    "\n",
    "Dismissed with honors.\n"
   ]
  }
 ],
 "metadata": {},
 "nbformat": 4,
 "nbformat_minor": 5
}
