{
  "nbformat": 4,
  "nbformat_minor": 0,
  "metadata": {
    "colab": {
      "provenance": [],
      "authorship_tag": "ABX9TyOStABIOvBV+ml/xl+zzXzV",
      "include_colab_link": true
    },
    "kernelspec": {
      "name": "python3",
      "display_name": "Python 3"
    },
    "language_info": {
      "name": "python"
    }
  },
  "cells": [
    {
      "cell_type": "markdown",
      "metadata": {
        "id": "view-in-github",
        "colab_type": "text"
      },
      "source": [
        "<a href=\"https://colab.research.google.com/github/cvbiju/Cyberpatriot/blob/main/Google_Cloud_Support_Pricing_Model.ipynb\" target=\"_parent\"><img src=\"https://colab.research.google.com/assets/colab-badge.svg\" alt=\"Open In Colab\"/></a>"
      ]
    },
    {
      "cell_type": "code",
      "execution_count": 1,
      "metadata": {
        "colab": {
          "base_uri": "https://localhost:8080/"
        },
        "id": "9NtknVguBlTe",
        "outputId": "8b05e610-47fd-40a5-f0a7-36b119f7d810"
      },
      "outputs": [
        {
          "output_type": "stream",
          "name": "stdout",
          "text": [
            "Enter your monthly GCP spend in USD: 750000\n",
            "\n",
            "Support Pricing Summary for Monthly Spend = $750,000.00\n",
            "--------------------------------------------------\n",
            "Standard Support: $22,500.00\n",
            "Enhanced Support: $29,400.00\n",
            "Premium Support : $52,000.00\n"
          ]
        }
      ],
      "source": [
        "# Google Cloud Support Pricing Calculator\n",
        "\n",
        "def calculate_standard_support(monthly_spend):\n",
        "    cost = max(0.03 * monthly_spend, 29)\n",
        "    return round(cost, 2)\n",
        "\n",
        "def calculate_enhanced_support(monthly_spend):\n",
        "    if monthly_spend <= 10000:\n",
        "        cost = 0.10 * monthly_spend\n",
        "    elif monthly_spend <= 80000:\n",
        "        cost = 0.10 * 10000 + 0.07 * (monthly_spend - 10000)\n",
        "    elif monthly_spend <= 250000:\n",
        "        cost = (\n",
        "            0.10 * 10000 +\n",
        "            0.07 * (80000 - 10000) +\n",
        "            0.05 * (monthly_spend - 80000)\n",
        "        )\n",
        "    else:\n",
        "        cost = (\n",
        "            0.10 * 10000 +\n",
        "            0.07 * (80000 - 10000) +\n",
        "            0.05 * (250000 - 80000) +\n",
        "            0.03 * (monthly_spend - 250000)\n",
        "        )\n",
        "    return round(max(cost, 100), 2)\n",
        "\n",
        "def calculate_premium_support(monthly_spend):\n",
        "    if monthly_spend <= 150000:\n",
        "        cost = 0.10 * monthly_spend\n",
        "    elif monthly_spend <= 500000:\n",
        "        cost = 0.10 * 150000 + 0.07 * (monthly_spend - 150000)\n",
        "    elif monthly_spend <= 1000000:\n",
        "        cost = (\n",
        "            0.10 * 150000 +\n",
        "            0.07 * (500000 - 150000) +\n",
        "            0.05 * (monthly_spend - 500000)\n",
        "        )\n",
        "    else:\n",
        "        cost = (\n",
        "            0.10 * 150000 +\n",
        "            0.07 * (500000 - 150000) +\n",
        "            0.05 * (1000000 - 500000) +\n",
        "            0.03 * (monthly_spend - 1000000)\n",
        "        )\n",
        "    return round(max(cost, 15000), 2)\n",
        "\n",
        "# --- Input ---\n",
        "monthly_spend = float(input(\"Enter your monthly GCP spend in USD: \"))\n",
        "\n",
        "# --- Outputs ---\n",
        "standard = calculate_standard_support(monthly_spend)\n",
        "enhanced = calculate_enhanced_support(monthly_spend)\n",
        "premium = calculate_premium_support(monthly_spend)\n",
        "\n",
        "print(f\"\\nSupport Pricing Summary for Monthly Spend = ${monthly_spend:,.2f}\")\n",
        "print(f\"--------------------------------------------------\")\n",
        "print(f\"Standard Support: ${standard:,.2f}\")\n",
        "print(f\"Enhanced Support: ${enhanced:,.2f}\")\n",
        "print(f\"Premium Support : ${premium:,.2f}\")\n"
      ]
    }
  ]
}