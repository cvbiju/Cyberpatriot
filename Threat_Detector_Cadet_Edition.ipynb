{
 "cells": [
  {
   "cell_type": "markdown",
   "id": "c29b6835",
   "metadata": {},
   "source": [
    "# 🛡️ Cadet Cyber Mission: Threat Detector (Cadet Edition)\n",
    "Welcome aboard, cadet! Today you're going to become a **Cyber Defender** by training a computer to detect whether network traffic is **Benign** (safe) or **Malicious** (dangerous).\n",
    "\n",
    "Let's go step by step, like a real mission. Stay sharp and follow the orders!\n"
   ]
  },
  {
   "cell_type": "code",
   "execution_count": null,
   "id": "8745ebd7",
   "metadata": {},
   "outputs": [],
   "source": [
    "# ✅ MISSION STEP 1: Import Tools\n",
    "# These are special toolkits that help us do data science\n",
    "import pandas as pd                      # Helps us handle tables of data\n",
    "import numpy as np                       # Helps with numbers and math\n",
    "import matplotlib.pyplot as plt          # Helps us draw charts\n",
    "from sklearn.model_selection import train_test_split  # Helps us split data into training/testing\n",
    "from sklearn.ensemble import RandomForestClassifier   # This is our smart model\n",
    "from sklearn.preprocessing import LabelEncoder        # Helps turn words into numbers\n",
    "from sklearn.metrics import classification_report, confusion_matrix, accuracy_score  # To measure how well we did\n"
   ]
  },
  {
   "cell_type": "code",
   "execution_count": null,
   "id": "d38711ad",
   "metadata": {},
   "outputs": [],
   "source": [
    "# ✅ MISSION STEP 2: Create Fake Cyber Traffic\n",
    "# We're making a pretend dataset of network connections with features like port, protocol, size, etc.\n",
    "# Some are safe, some are dangerous.\n",
    "data = {\n",
    "    'Protocol': ['TCP', 'UDP', 'TCP', 'TCP', 'UDP', 'TCP', 'TCP', 'UDP', 'TCP', 'UDP'] * 10,\n",
    "    'Src_Port': np.random.randint(1000, 5000, size=100),  # Random source port\n",
    "    'Dst_Port': np.random.randint(20, 1024, size=100),    # Random destination port\n",
    "    'Packet_Size': np.random.randint(40, 1500, size=100), # Size of the packet\n",
    "    'Duration': np.random.rand(100) * 10,                 # How long the connection lasted\n",
    "    'Label': ['Benign', 'Malicious', 'Benign', 'Benign', 'Malicious',\n",
    "              'Benign', 'Malicious', 'Benign', 'Malicious', 'Benign'] * 10\n",
    "}\n",
    "df = pd.DataFrame(data)  # Put it all into a table\n",
    "df.head()  # Show the first few rows\n"
   ]
  },
  {
   "cell_type": "code",
   "execution_count": null,
   "id": "70e5ae04",
   "metadata": {},
   "outputs": [],
   "source": [
    "# ✅ MISSION STEP 3: Turn Words into Numbers\n",
    "# Computers can't understand words like \"TCP\" or \"Malicious\", so we convert them into numbers.\n",
    "\n",
    "le = LabelEncoder()\n",
    "df['Protocol'] = le.fit_transform(df['Protocol'])  # TCP becomes 1, UDP becomes 0 (or vice versa)\n",
    "df['Label'] = df['Label'].map({'Benign': 0, 'Malicious': 1})  # Benign = 0, Malicious = 1\n",
    "df.head()\n"
   ]
  },
  {
   "cell_type": "code",
   "execution_count": null,
   "id": "e671c3f1",
   "metadata": {},
   "outputs": [],
   "source": [
    "# ✅ MISSION STEP 4: Split Data for Training and Testing\n",
    "# We'll use part of the data to train the computer, and the rest to test if it learned well.\n",
    "\n",
    "X = df.drop('Label', axis=1)  # Features (everything except the answer)\n",
    "y = df['Label']               # Labels (the answers we want to predict)\n",
    "\n",
    "X_train, X_test, y_train, y_test = train_test_split(X, y, test_size=0.3, random_state=42)  # 70% train, 30% test\n"
   ]
  },
  {
   "cell_type": "code",
   "execution_count": null,
   "id": "412f3a3b",
   "metadata": {},
   "outputs": [],
   "source": [
    "# ✅ MISSION STEP 5: Train the Model (Random Forest = Smart Brain)\n",
    "# We give the computer examples of safe and dangerous traffic, and it learns the pattern.\n",
    "\n",
    "clf = RandomForestClassifier(n_estimators=100, random_state=42)\n",
    "clf.fit(X_train, y_train)\n",
    "y_pred = clf.predict(X_test)  # Ask the computer to make predictions\n"
   ]
  },
  {
   "cell_type": "code",
   "execution_count": null,
   "id": "6878a756",
   "metadata": {},
   "outputs": [],
   "source": [
    "# ✅ MISSION STEP 6: See How Well the Computer Did\n",
    "# We measure how many predictions it got right vs. wrong.\n",
    "\n",
    "print(\"🧮 Accuracy Score:\", accuracy_score(y_test, y_pred))\n",
    "print(\"\\n🧾 Confusion Matrix (Actual vs Predicted):\\n\", confusion_matrix(y_test, y_pred))\n",
    "print(\"\\n📋 Classification Report:\\n\", classification_report(y_test, y_pred))\n"
   ]
  },
  {
   "cell_type": "code",
   "execution_count": null,
   "id": "9910b3ec",
   "metadata": {},
   "outputs": [],
   "source": [
    "# ✅ MISSION STEP 7: Visualize the Results\n",
    "# Let’s draw a simple bar chart to show how many were predicted as Benign vs Malicious.\n",
    "\n",
    "plt.figure(figsize=(6,4))\n",
    "plt.bar(['Benign', 'Malicious'], [list(y_pred).count(0), list(y_pred).count(1)])\n",
    "plt.title('🔍 Threat Detector: Prediction Results')\n",
    "plt.ylabel('Number of Connections')\n",
    "plt.tight_layout()\n",
    "plt.show()\n"
   ]
  }
 ],
 "metadata": {},
 "nbformat": 4,
 "nbformat_minor": 5
}
